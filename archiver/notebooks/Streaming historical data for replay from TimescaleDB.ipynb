{
 "cells": [
  {
   "cell_type": "markdown",
   "id": "53c0b0fc-ca70-4bb4-aa45-4beb22dd5d9e",
   "metadata": {},
   "source": [
    "# Streaming historical data from timescaleDB\n",
    "\n",
    "In the \"Accessing TimescaleDB\" notebook, I demonstrated how to connect to the TimescaleDB instance and query some data statically. Now, I'd like to do some experiments on what latency looks like for streaming data. How expensive is it to query the last hour of data? How about the last two hours of data? Are there tricks we can play to make it faster?\n",
    "\n",
    "*Aniket Pant, UIUC*"
   ]
  },
  {
   "cell_type": "code",
   "execution_count": 1,
   "id": "1f9dddea-3f06-46ca-aa53-7bdaf1c3a13e",
   "metadata": {},
   "outputs": [],
   "source": [
    "import os\n",
    "\n",
    "import pandas as pd\n",
    "import matplotlib.pyplot as plt\n",
    "%matplotlib inline\n",
    "\n",
    "from sqlalchemy import create_engine, text\n",
    "from sqlalchemy.engine import URL\n",
    "from datetime import datetime, timedelta"
   ]
  },
  {
   "cell_type": "code",
   "execution_count": 2,
   "id": "256fd470-3b1c-4a64-9dfb-142a173e6c8a",
   "metadata": {},
   "outputs": [],
   "source": [
    "db_url = URL.create(\n",
    "    \"postgresql+psycopg2\",\n",
    "    username=os.getenv(\"POSTGRES_USER\", \"ships\"),\n",
    "    password=os.getenv(\"POSTGRES_PASSWORD\", \"ships\"),\n",
    "    host=os.getenv(\"POSTGRES_HOST\", \"localhost\"),\n",
    "    port=int(os.getenv(\"POSTGRES_PORT\", 5432)),\n",
    "    database=os.getenv(\"POSTGRES_DB\", \"ships\"),\n",
    ")\n",
    "\n",
    "engine = create_engine(db_url, future=True)\n",
    "\n",
    "with engine.connect() as connection:\n",
    "    df = pd.read_sql(text(\"SELECT NOW() AS server_time\"), connection)"
   ]
  },
  {
   "cell_type": "code",
   "execution_count": 3,
   "id": "85cc1611-2ab1-41f7-b84a-b6ab3e8667a6",
   "metadata": {},
   "outputs": [
    {
     "data": {
      "text/html": [
       "<div>\n",
       "<style scoped>\n",
       "    .dataframe tbody tr th:only-of-type {\n",
       "        vertical-align: middle;\n",
       "    }\n",
       "\n",
       "    .dataframe tbody tr th {\n",
       "        vertical-align: top;\n",
       "    }\n",
       "\n",
       "    .dataframe thead th {\n",
       "        text-align: right;\n",
       "    }\n",
       "</style>\n",
       "<table border=\"1\" class=\"dataframe\">\n",
       "  <thead>\n",
       "    <tr style=\"text-align: right;\">\n",
       "      <th></th>\n",
       "      <th>server_time</th>\n",
       "    </tr>\n",
       "  </thead>\n",
       "  <tbody>\n",
       "    <tr>\n",
       "      <th>0</th>\n",
       "      <td>2025-10-08 18:03:35.855374+00:00</td>\n",
       "    </tr>\n",
       "  </tbody>\n",
       "</table>\n",
       "</div>"
      ],
      "text/plain": [
       "                       server_time\n",
       "0 2025-10-08 18:03:35.855374+00:00"
      ]
     },
     "execution_count": 3,
     "metadata": {},
     "output_type": "execute_result"
    }
   ],
   "source": [
    "df"
   ]
  },
  {
   "cell_type": "code",
   "execution_count": 9,
   "id": "70861a9c-ef3b-4a01-a386-769ee7f58dfa",
   "metadata": {},
   "outputs": [
    {
     "name": "stdout",
     "output_type": "stream",
     "text": [
      "Fetched last hour in 0.534s, rows: 10,990\n"
     ]
    }
   ],
   "source": [
    "# how much time does it take to query the last hour of data?\n",
    "import time\n",
    "from sqlalchemy import text\n",
    "\n",
    "COLUMNS = \"ts, mmsi, lat, lon, sog, cog, hdg, mt\"  # skip 'raw' to avoid JSONB overhead\n",
    "bbox = None\n",
    "\n",
    "base_sql = f\"\"\"\n",
    "SELECT {COLUMNS}\n",
    "FROM ship_positions\n",
    "WHERE ts >= NOW() - INTERVAL '10 minute'\n",
    "\"\"\"\n",
    "\n",
    "if bbox is None:\n",
    "    sql = base_sql + \" ORDER BY ts DESC\"\n",
    "    params = {}\n",
    "else:\n",
    "    # switch to the ST_Contains/ST_MakeEnvelope\n",
    "    sql = base_sql + \"\"\"\n",
    "      AND lat BETWEEN :min_lat AND :max_lat\n",
    "      AND lon BETWEEN :min_lon AND :max_lon\n",
    "      ORDER BY ts DESC\n",
    "    \"\"\"\n",
    "    params = {\n",
    "        \"min_lon\": bbox[0], \"min_lat\": bbox[1],\n",
    "        \"max_lon\": bbox[2], \"max_lat\": bbox[3],\n",
    "    }\n",
    "\n",
    "chunksize = 200_000\n",
    "\n",
    "start = time.perf_counter()\n",
    "row_count = 0\n",
    "with engine.connect() as conn:\n",
    "    # conn.execute(text(\"SET enable_parallel = on\"))\n",
    "    t = text(sql)\n",
    "    for chunk in pd.read_sql(t, conn, params=params, chunksize=chunksize):\n",
    "        row_count += len(chunk)\n",
    "end = time.perf_counter()\n",
    "\n",
    "elapsed_s = end - start\n",
    "print(f\"Fetched last hour in {elapsed_s:.3f}s, rows: {row_count:,}\")"
   ]
  },
  {
   "cell_type": "code",
   "execution_count": null,
   "id": "26301c0a-51db-4c80-9742-e5b613ce54c0",
   "metadata": {},
   "outputs": [],
   "source": []
  }
 ],
 "metadata": {
  "kernelspec": {
   "display_name": "Python 3 (ipykernel)",
   "language": "python",
   "name": "python3"
  },
  "language_info": {
   "codemirror_mode": {
    "name": "ipython",
    "version": 3
   },
   "file_extension": ".py",
   "mimetype": "text/x-python",
   "name": "python",
   "nbconvert_exporter": "python",
   "pygments_lexer": "ipython3",
   "version": "3.11.13"
  }
 },
 "nbformat": 4,
 "nbformat_minor": 5
}
