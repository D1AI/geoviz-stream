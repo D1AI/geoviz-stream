{
 "cells": [
  {
   "cell_type": "markdown",
   "id": "f040b115-5731-4438-aff1-8ca9a9d66ee9",
   "metadata": {},
   "source": [
    "# Simple jupyter notebook for accesing TimescaleDB database via kubectl port forward for SQL query\n",
    "\n",
    "*Aniket Pant, UIUC*"
   ]
  },
  {
   "cell_type": "code",
   "execution_count": 2,
   "id": "fb552455-ae1b-49eb-8e5d-2d41b3d8c49b",
   "metadata": {},
   "outputs": [],
   "source": [
    "import os\n",
    "\n",
    "import pandas as pd\n",
    "from sqlalchemy import create_engine, text\n",
    "from sqlalchemy.engine import URL"
   ]
  },
  {
   "cell_type": "code",
   "execution_count": 3,
   "id": "690de828",
   "metadata": {},
   "outputs": [],
   "source": [
    "# Build a SQLAlchemy engine using Postgres connection details from the environment.\n",
    "db_url = URL.create(\n",
    "    \"postgresql+psycopg2\",\n",
    "    username=os.getenv(\"POSTGRES_USER\", \"ships\"),\n",
    "    password=os.getenv(\"POSTGRES_PASSWORD\", \"ships\"),\n",
    "    host=os.getenv(\"POSTGRES_HOST\", \"localhost\"),\n",
    "    port=int(os.getenv(\"POSTGRES_PORT\", 5432)),\n",
    "    database=os.getenv(\"POSTGRES_DB\", \"ships\"),\n",
    ")\n",
    "\n",
    "engine = create_engine(db_url, future=True)\n",
    "\n",
    "with engine.connect() as connection:\n",
    "    df = pd.read_sql(text(\"SELECT NOW() AS server_time\"), connection)"
   ]
  },
  {
   "cell_type": "code",
   "execution_count": 4,
   "id": "a808a4cb-1247-4eb2-bcf1-a004636110a9",
   "metadata": {},
   "outputs": [
    {
     "data": {
      "text/html": [
       "<div>\n",
       "<style scoped>\n",
       "    .dataframe tbody tr th:only-of-type {\n",
       "        vertical-align: middle;\n",
       "    }\n",
       "\n",
       "    .dataframe tbody tr th {\n",
       "        vertical-align: top;\n",
       "    }\n",
       "\n",
       "    .dataframe thead th {\n",
       "        text-align: right;\n",
       "    }\n",
       "</style>\n",
       "<table border=\"1\" class=\"dataframe\">\n",
       "  <thead>\n",
       "    <tr style=\"text-align: right;\">\n",
       "      <th></th>\n",
       "      <th>server_time</th>\n",
       "    </tr>\n",
       "  </thead>\n",
       "  <tbody>\n",
       "    <tr>\n",
       "      <th>0</th>\n",
       "      <td>2025-10-08 05:44:50.369433+00:00</td>\n",
       "    </tr>\n",
       "  </tbody>\n",
       "</table>\n",
       "</div>"
      ],
      "text/plain": [
       "                       server_time\n",
       "0 2025-10-08 05:44:50.369433+00:00"
      ]
     },
     "execution_count": 4,
     "metadata": {},
     "output_type": "execute_result"
    }
   ],
   "source": [
    "df"
   ]
  },
  {
   "cell_type": "code",
   "execution_count": null,
   "id": "4ed21e1a-4f22-4393-ad86-cec031d7e08f",
   "metadata": {},
   "outputs": [],
   "source": []
  }
 ],
 "metadata": {
  "kernelspec": {
   "display_name": "Python 3 (ipykernel)",
   "language": "python",
   "name": "python3"
  },
  "language_info": {
   "codemirror_mode": {
    "name": "ipython",
    "version": 3
   },
   "file_extension": ".py",
   "mimetype": "text/x-python",
   "name": "python",
   "nbconvert_exporter": "python",
   "pygments_lexer": "ipython3",
   "version": "3.11.13"
  }
 },
 "nbformat": 4,
 "nbformat_minor": 5
}
